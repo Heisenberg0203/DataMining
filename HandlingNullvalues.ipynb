{
 "cells": [
  {
   "cell_type": "code",
   "execution_count": 1,
   "metadata": {},
   "outputs": [
    {
     "name": "stdout",
     "output_type": "stream",
     "text": [
      "Assignment_1.ipynb            \u001b[31mUIDAI-ENR-DETAIL-20170308.csv\u001b[m\u001b[m\r\n",
      "Assignment_2.ipynb            Untitled.ipynb\r\n"
     ]
    }
   ],
   "source": [
    "!ls\n"
   ]
  },
  {
   "cell_type": "code",
   "execution_count": 2,
   "metadata": {},
   "outputs": [],
   "source": [
    "import pandas as pd\n",
    "import numpy as np\n",
    "import matplotlib.pyplot as plt"
   ]
  },
  {
   "cell_type": "code",
   "execution_count": 3,
   "metadata": {},
   "outputs": [
    {
     "name": "stderr",
     "output_type": "stream",
     "text": [
      "/Users/rushikesh/anaconda3/lib/python3.6/site-packages/IPython/core/interactiveshell.py:2785: DtypeWarning: Columns (5) have mixed types. Specify dtype option on import or set low_memory=False.\n",
      "  interactivity=interactivity, compiler=compiler, result=result)\n"
     ]
    }
   ],
   "source": [
    "dataset = pd.read_csv(\"UIDAI-ENR-DETAIL-20170308.csv\")"
   ]
  },
  {
   "cell_type": "markdown",
   "metadata": {},
   "source": [
    "### Finding null values"
   ]
  },
  {
   "cell_type": "code",
   "execution_count": 5,
   "metadata": {},
   "outputs": [
    {
     "data": {
      "text/plain": [
       "Registrar                            False\n",
       "Enrolment Agency                     False\n",
       "State                                False\n",
       "District                             False\n",
       "Sub District                         False\n",
       "Pin Code                             False\n",
       "Gender                               False\n",
       "Age                                  False\n",
       "Aadhaar generated                    False\n",
       "Enrolment Rejected                   False\n",
       "Residents providing email             True\n",
       "Residents providing mobile number    False\n",
       "dtype: bool"
      ]
     },
     "execution_count": 5,
     "metadata": {},
     "output_type": "execute_result"
    }
   ],
   "source": [
    "dataset.isnull().any()"
   ]
  },
  {
   "cell_type": "code",
   "execution_count": 6,
   "metadata": {},
   "outputs": [
    {
     "data": {
      "text/plain": [
       "31"
      ]
     },
     "execution_count": 6,
     "metadata": {},
     "output_type": "execute_result"
    }
   ],
   "source": [
    "dataset['Residents providing email'].isnull().sum()"
   ]
  },
  {
   "cell_type": "markdown",
   "metadata": {},
   "source": [
    "### There are 31 null values in the datset"
   ]
  },
  {
   "cell_type": "code",
   "execution_count": 7,
   "metadata": {},
   "outputs": [
    {
     "data": {
      "text/plain": [
       "0    0.0\n",
       "dtype: float64"
      ]
     },
     "execution_count": 7,
     "metadata": {},
     "output_type": "execute_result"
    }
   ],
   "source": [
    "dataset['Residents providing email'].mode()"
   ]
  },
  {
   "cell_type": "code",
   "execution_count": 11,
   "metadata": {},
   "outputs": [],
   "source": [
    "dataset['Residents providing email'].replace(np.nan,0,inplace=True)"
   ]
  },
  {
   "cell_type": "code",
   "execution_count": 13,
   "metadata": {},
   "outputs": [
    {
     "data": {
      "text/plain": [
       "Registrar                            0\n",
       "Enrolment Agency                     0\n",
       "State                                0\n",
       "District                             0\n",
       "Sub District                         0\n",
       "Pin Code                             0\n",
       "Gender                               0\n",
       "Age                                  0\n",
       "Aadhaar generated                    0\n",
       "Enrolment Rejected                   0\n",
       "Residents providing email            0\n",
       "Residents providing mobile number    0\n",
       "dtype: int64"
      ]
     },
     "execution_count": 13,
     "metadata": {},
     "output_type": "execute_result"
    }
   ],
   "source": [
    "dataset.isnull().sum()"
   ]
  },
  {
   "cell_type": "markdown",
   "metadata": {},
   "source": [
    "### Now there are no null values"
   ]
  },
  {
   "cell_type": "code",
   "execution_count": 14,
   "metadata": {},
   "outputs": [
    {
     "data": {
      "text/html": [
       "<div>\n",
       "<style scoped>\n",
       "    .dataframe tbody tr th:only-of-type {\n",
       "        vertical-align: middle;\n",
       "    }\n",
       "\n",
       "    .dataframe tbody tr th {\n",
       "        vertical-align: top;\n",
       "    }\n",
       "\n",
       "    .dataframe thead th {\n",
       "        text-align: right;\n",
       "    }\n",
       "</style>\n",
       "<table border=\"1\" class=\"dataframe\">\n",
       "  <thead>\n",
       "    <tr style=\"text-align: right;\">\n",
       "      <th></th>\n",
       "      <th>Registrar</th>\n",
       "      <th>Enrolment Agency</th>\n",
       "      <th>State</th>\n",
       "      <th>District</th>\n",
       "      <th>Sub District</th>\n",
       "      <th>Pin Code</th>\n",
       "      <th>Gender</th>\n",
       "      <th>Age</th>\n",
       "      <th>Aadhaar generated</th>\n",
       "      <th>Enrolment Rejected</th>\n",
       "      <th>Residents providing email</th>\n",
       "      <th>Residents providing mobile number</th>\n",
       "    </tr>\n",
       "  </thead>\n",
       "  <tbody>\n",
       "    <tr>\n",
       "      <th>0</th>\n",
       "      <td>Allahabad Bank</td>\n",
       "      <td>A-Onerealtors Pvt Ltd</td>\n",
       "      <td>Uttar Pradesh</td>\n",
       "      <td>Allahabad</td>\n",
       "      <td>Meja</td>\n",
       "      <td>212303</td>\n",
       "      <td>F</td>\n",
       "      <td>7</td>\n",
       "      <td>1</td>\n",
       "      <td>0</td>\n",
       "      <td>0.0</td>\n",
       "      <td>1</td>\n",
       "    </tr>\n",
       "    <tr>\n",
       "      <th>1</th>\n",
       "      <td>Allahabad Bank</td>\n",
       "      <td>Asha Security Guard Services</td>\n",
       "      <td>Uttar Pradesh</td>\n",
       "      <td>Sonbhadra</td>\n",
       "      <td>Robertsganj</td>\n",
       "      <td>231213</td>\n",
       "      <td>M</td>\n",
       "      <td>8</td>\n",
       "      <td>1</td>\n",
       "      <td>0</td>\n",
       "      <td>0.0</td>\n",
       "      <td>0</td>\n",
       "    </tr>\n",
       "    <tr>\n",
       "      <th>2</th>\n",
       "      <td>Allahabad Bank</td>\n",
       "      <td>SGS INDIA PVT LTD</td>\n",
       "      <td>Uttar Pradesh</td>\n",
       "      <td>Sultanpur</td>\n",
       "      <td>Sultanpur</td>\n",
       "      <td>227812</td>\n",
       "      <td>F</td>\n",
       "      <td>13</td>\n",
       "      <td>1</td>\n",
       "      <td>0</td>\n",
       "      <td>0.0</td>\n",
       "      <td>1</td>\n",
       "    </tr>\n",
       "    <tr>\n",
       "      <th>3</th>\n",
       "      <td>Allahabad Bank</td>\n",
       "      <td>Sri Ramraja Sarkar Lok Kalyan Trust</td>\n",
       "      <td>Uttar Pradesh</td>\n",
       "      <td>Shamli</td>\n",
       "      <td>Shamli</td>\n",
       "      <td>247775</td>\n",
       "      <td>M</td>\n",
       "      <td>6</td>\n",
       "      <td>1</td>\n",
       "      <td>0</td>\n",
       "      <td>0.0</td>\n",
       "      <td>1</td>\n",
       "    </tr>\n",
       "    <tr>\n",
       "      <th>4</th>\n",
       "      <td>Allahabad Bank</td>\n",
       "      <td>Transmoovers India</td>\n",
       "      <td>Uttar Pradesh</td>\n",
       "      <td>Gorakhpur</td>\n",
       "      <td>Sahjanwa</td>\n",
       "      <td>273001</td>\n",
       "      <td>M</td>\n",
       "      <td>8</td>\n",
       "      <td>1</td>\n",
       "      <td>0</td>\n",
       "      <td>0.0</td>\n",
       "      <td>1</td>\n",
       "    </tr>\n",
       "  </tbody>\n",
       "</table>\n",
       "</div>"
      ],
      "text/plain": [
       "        Registrar                     Enrolment Agency          State  \\\n",
       "0  Allahabad Bank                A-Onerealtors Pvt Ltd  Uttar Pradesh   \n",
       "1  Allahabad Bank         Asha Security Guard Services  Uttar Pradesh   \n",
       "2  Allahabad Bank                    SGS INDIA PVT LTD  Uttar Pradesh   \n",
       "3  Allahabad Bank  Sri Ramraja Sarkar Lok Kalyan Trust  Uttar Pradesh   \n",
       "4  Allahabad Bank                   Transmoovers India  Uttar Pradesh   \n",
       "\n",
       "    District Sub District Pin Code Gender  Age  Aadhaar generated  \\\n",
       "0  Allahabad         Meja   212303      F    7                  1   \n",
       "1  Sonbhadra  Robertsganj   231213      M    8                  1   \n",
       "2  Sultanpur    Sultanpur   227812      F   13                  1   \n",
       "3     Shamli       Shamli   247775      M    6                  1   \n",
       "4  Gorakhpur     Sahjanwa   273001      M    8                  1   \n",
       "\n",
       "   Enrolment Rejected  Residents providing email  \\\n",
       "0                   0                        0.0   \n",
       "1                   0                        0.0   \n",
       "2                   0                        0.0   \n",
       "3                   0                        0.0   \n",
       "4                   0                        0.0   \n",
       "\n",
       "   Residents providing mobile number  \n",
       "0                                  1  \n",
       "1                                  0  \n",
       "2                                  1  \n",
       "3                                  1  \n",
       "4                                  1  "
      ]
     },
     "execution_count": 14,
     "metadata": {},
     "output_type": "execute_result"
    }
   ],
   "source": [
    "dataset.head()"
   ]
  },
  {
   "cell_type": "markdown",
   "metadata": {},
   "source": [
    "### normalized age "
   ]
  },
  {
   "cell_type": "code",
   "execution_count": 26,
   "metadata": {},
   "outputs": [
    {
     "name": "stdout",
     "output_type": "stream",
     "text": [
      "The normalisation scale down to 1.0:0.0\n"
     ]
    }
   ],
   "source": [
    "normage=(dataset.Age- np.min(dataset.Age))/(np.max(dataset.Age) - np.min(dataset.Age))\n",
    "print(\"The normalisation scale down to \" + str(np.max(normage)) +\":\" +str(np.min(normage)) )"
   ]
  },
  {
   "cell_type": "markdown",
   "metadata": {},
   "source": [
    "## Normlisation using Z-score"
   ]
  },
  {
   "cell_type": "code",
   "execution_count": 27,
   "metadata": {},
   "outputs": [
    {
     "name": "stdout",
     "output_type": "stream",
     "text": [
      "The Z-Socre scale down to 5.2601668304527385:-1.0544543997243536\n"
     ]
    }
   ],
   "source": [
    "zage=(dataset.Age-np.mean(dataset.Age))/np.std(dataset.Age)\n",
    "print(\"The Z-Socre scale down to \" + str(np.max(zage)) +\":\" +str(np.min(zage)) )"
   ]
  },
  {
   "cell_type": "code",
   "execution_count": null,
   "metadata": {},
   "outputs": [],
   "source": []
  }
 ],
 "metadata": {
  "kernelspec": {
   "display_name": "Python 3",
   "language": "python",
   "name": "python3"
  },
  "language_info": {
   "codemirror_mode": {
    "name": "ipython",
    "version": 3
   },
   "file_extension": ".py",
   "mimetype": "text/x-python",
   "name": "python",
   "nbconvert_exporter": "python",
   "pygments_lexer": "ipython3",
   "version": "3.6.5"
  }
 },
 "nbformat": 4,
 "nbformat_minor": 2
}
